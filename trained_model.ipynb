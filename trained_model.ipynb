{
 "cells": [
  {
   "cell_type": "code",
   "execution_count": 5,
   "id": "9a426698-1217-4970-89a8-c4c9f803d402",
   "metadata": {},
   "outputs": [
    {
     "name": "stdout",
     "output_type": "stream",
     "text": [
      "Mean Absolute Error: 186.59016541822723\n",
      "       Actual  Predicted\n",
      "5515      304     283.46\n",
      "1208      225     343.36\n",
      "10194     207     470.61\n",
      "2085       72      49.67\n",
      "2458      246     290.50\n"
     ]
    }
   ],
   "source": [
    "# 1. Import necessary libraries\n",
    "import pandas as pd\n",
    "from sklearn.model_selection import train_test_split\n",
    "from sklearn.ensemble import RandomForestRegressor\n",
    "from sklearn.metrics import mean_absolute_error\n",
    "import kagglehub\n",
    "import os\n",
    "\n",
    "# 2. Load the dataset\n",
    "data = pd.read_csv('crimes_against_women_2001-2014.csv')\n",
    "# print(data)\n",
    "\n",
    "\n",
    "\n",
    "# 3. Create a new 'Total Crimes' column by summing up all crime-related columns\n",
    "crime_columns = ['Rape', 'Kidnapping and Abduction', 'Dowry Deaths',\n",
    "                 'Assault on women with intent to outrage her modesty',\n",
    "                 'Insult to modesty of Women', 'Cruelty by Husband or his Relatives',\n",
    "                 'Importation of Girls']\n",
    "\n",
    "data['Total Crimes'] = data[crime_columns].sum(axis=1)\n",
    "\n",
    "\n",
    "# 4. Define features (STATE/UT, DISTRICT, Year) and target (Total Crimes)\n",
    "# Here we convert categorical columns to numeric using one-hot encoding\n",
    "X = pd.get_dummies(data[['STATE/UT', 'DISTRICT', 'Year']], drop_first=True)\n",
    "y = data['Total Crimes']\n",
    "\n",
    "# # 5. Split the data into training and testing sets (70% train, 30% test)\n",
    "X_train, X_test, y_train, y_test = train_test_split(X, y, test_size=0.3, random_state=42)\n",
    "\n",
    "# # 6. Initialize and train the model (Random Forest Regressor)\n",
    "model = RandomForestRegressor(n_estimators=100, random_state=42)\n",
    "model.fit(X_train, y_train)\n",
    "\n",
    "# 7. Make predictions on the test data\n",
    "y_pred = model.predict(X_test)\n",
    "\n",
    "# 8. Evaluate the model's performance using Mean Absolute Error\n",
    "mae = mean_absolute_error(y_test, y_pred)\n",
    "print(f\"Mean Absolute Error: {mae}\")\n",
    "\n",
    "# Optionally, compare actual and predicted values\n",
    "comparison = pd.DataFrame({'Actual': y_test, 'Predicted': y_pred})\n",
    "print(comparison.head())\n"
   ]
  },
  {
   "cell_type": "code",
   "execution_count": null,
   "id": "58e44529-a69b-4924-a235-f082ed3036cc",
   "metadata": {},
   "outputs": [],
   "source": []
  },
  {
   "cell_type": "code",
   "execution_count": null,
   "id": "b055e271-f72a-453c-8e22-4b5274e5c536",
   "metadata": {},
   "outputs": [],
   "source": []
  }
 ],
 "metadata": {
  "kernelspec": {
   "display_name": "Python 3 (ipykernel)",
   "language": "python",
   "name": "python3"
  },
  "language_info": {
   "codemirror_mode": {
    "name": "ipython",
    "version": 3
   },
   "file_extension": ".py",
   "mimetype": "text/x-python",
   "name": "python",
   "nbconvert_exporter": "python",
   "pygments_lexer": "ipython3",
   "version": "3.10.12"
  }
 },
 "nbformat": 4,
 "nbformat_minor": 5
}
