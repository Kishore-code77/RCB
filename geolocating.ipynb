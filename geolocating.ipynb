{
 "cells": [
  {
   "cell_type": "code",
   "execution_count": 1,
   "id": "747069e6-bb4e-4728-88d8-63557b1f58bd",
   "metadata": {},
   "outputs": [
    {
     "name": "stdout",
     "output_type": "stream",
     "text": [
      "Defaulting to user installation because normal site-packages is not writeable\n",
      "Collecting geopy\n",
      "  Downloading geopy-2.4.1-py3-none-any.whl.metadata (6.8 kB)\n",
      "Collecting geographiclib<3,>=1.52 (from geopy)\n",
      "  Downloading geographiclib-2.0-py3-none-any.whl.metadata (1.4 kB)\n",
      "Downloading geopy-2.4.1-py3-none-any.whl (125 kB)\n",
      "Downloading geographiclib-2.0-py3-none-any.whl (40 kB)\n",
      "Installing collected packages: geographiclib, geopy\n",
      "Successfully installed geographiclib-2.0 geopy-2.4.1\n",
      "Note: you may need to restart the kernel to use updated packages.\n"
     ]
    }
   ],
   "source": [
    "pip install geopy"
   ]
  },
  {
   "cell_type": "code",
   "execution_count": 4,
   "id": "f6b4e208-bad5-4cfd-bbec-71a02fe51220",
   "metadata": {},
   "outputs": [
    {
     "ename": "SyntaxError",
     "evalue": "':' expected after dictionary key (1273289302.py, line 8)",
     "output_type": "error",
     "traceback": [
      "\u001b[0;36m  Cell \u001b[0;32mIn[4], line 8\u001b[0;36m\u001b[0m\n\u001b[0;31m    {'place_id': '9167009604', 'type': 'attraction', ...}\u001b[0m\n\u001b[0m                                                       ^\u001b[0m\n\u001b[0;31mSyntaxError\u001b[0m\u001b[0;31m:\u001b[0m ':' expected after dictionary key\n"
     ]
    }
   ],
   "source": [
    ">>> from geopy.geocoders import Nominatim\n",
    ">>> geolocator = Nominatim(user_agent=\"specify_your_app_name_here\")\n",
    ">>> location = geolocator.geocode(\"175 5th Avenue NYC\")\n",
    ">>> print(location.address)\n",
    ">>> print((location.latitude, location.longitude))\n",
    "(40.7410861, -73.9896297241625)\n",
    ">>> print(location.raw)\n",
    "{'place_id': '9167009604', 'type': 'attraction', ...}"
   ]
  },
  {
   "cell_type": "code",
   "execution_count": 5,
   "id": "492d687e-05a9-4bad-adbb-b01fdc3a4068",
   "metadata": {},
   "outputs": [
    {
     "name": "stdout",
     "output_type": "stream",
     "text": [
      "175, 5th Avenue, Manhattan Community Board 5, Manhattan, New York County, City of New York, New York, 10035, United States\n",
      "(40.7410978, -73.9897246)\n",
      "{'place_id': 15402806, 'licence': 'Data © OpenStreetMap contributors, ODbL 1.0. http://osm.org/copyright', 'osm_type': 'node', 'osm_id': 7139825363, 'lat': '40.7410978', 'lon': '-73.9897246', 'class': 'place', 'type': 'house', 'place_rank': 30, 'importance': 9.175936522464359e-05, 'addresstype': 'place', 'name': '', 'display_name': '175, 5th Avenue, Manhattan Community Board 5, Manhattan, New York County, City of New York, New York, 10035, United States', 'boundingbox': ['40.7410478', '40.7411478', '-73.9897746', '-73.9896746']}\n"
     ]
    }
   ],
   "source": [
    "from geopy.geocoders import Nominatim\n",
    "\n",
    "# Create a geolocator object with a proper user agent (your app name or email)\n",
    "geolocator = Nominatim(user_agent=\"my_app\")\n",
    "\n",
    "# Geocode a location (e.g., Flatiron Building)\n",
    "location = geolocator.geocode(\"175 5th Avenue NYC\")\n",
    "\n",
    "# Print the full address of the location\n",
    "print(location.address)\n",
    "\n",
    "# Print the latitude and longitude of the location\n",
    "print((location.latitude, location.longitude))\n",
    "\n",
    "# Print the raw data from the geocoding service\n",
    "print(location.raw)"
   ]
  },
  {
   "cell_type": "code",
   "execution_count": 11,
   "id": "eedd9420-c364-45fb-83b1-896d1cf3d7c9",
   "metadata": {},
   "outputs": [
    {
     "name": "stdout",
     "output_type": "stream",
     "text": [
      "Person is located at: wadgaon, Hirdi, Samudrapur, Wardha, Maharashtra, India\n"
     ]
    }
   ],
   "source": [
    "from geopy.geocoders import Nominatim\n",
    "\n",
    "# Create a geolocator object with a user agent (your app name)\n",
    "geolocator = Nominatim(user_agent=\"safety_app\")\n",
    "\n",
    "\n",
    "def locate_person(latitude, longitude):\n",
    "    \"\"\"\n",
    "    This function takes latitude and longitude as input and returns the address of the location.\n",
    "    \"\"\"\n",
    "    try:\n",
    "        # Reverse geocode to get the address from latitude and longitude\n",
    "        location = geolocator.reverse((latitude, longitude), exactly_one=True)\n",
    "        if location:\n",
    "            return location.address\n",
    "        else:\n",
    "            return \"Location not found\"\n",
    "    except Exception as e:\n",
    "        return f\"Error locating person: {e}\"\n",
    "\n",
    "# Example of receiving an alert signal with GPS coordinates\n",
    "# Assume these coordinates are coming from the alert system (e.g., panic button on the mobile app)\n",
    "alert_latitude = 20.5937  # Replace with actual latitude received from alert\n",
    "alert_longitude = 78.9629  # Replace with actual longitude received from alert\n",
    "\n",
    "# Locate the person based on the coordinates from the alert\n",
    "person_location = locate_person(alert_latitude, alert_longitude)\n",
    "\n",
    "# Print the human-readable address of the person\n",
    "print(f\"Person is located at: {person_location}\")"
   ]
  },
  {
   "cell_type": "code",
   "execution_count": null,
   "id": "0abc84cb-24e3-445b-8943-35a2fe697aab",
   "metadata": {},
   "outputs": [],
   "source": []
  }
 ],
 "metadata": {
  "kernelspec": {
   "display_name": "Python 3 (ipykernel)",
   "language": "python",
   "name": "python3"
  },
  "language_info": {
   "codemirror_mode": {
    "name": "ipython",
    "version": 3
   },
   "file_extension": ".py",
   "mimetype": "text/x-python",
   "name": "python",
   "nbconvert_exporter": "python",
   "pygments_lexer": "ipython3",
   "version": "3.10.12"
  }
 },
 "nbformat": 4,
 "nbformat_minor": 5
}
