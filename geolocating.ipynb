{
 "cells": [
  {
   "cell_type": "code",
   "execution_count": 1,
   "id": "747069e6-bb4e-4728-88d8-63557b1f58bd",
   "metadata": {},
   "outputs": [
    {
     "name": "stdout",
     "output_type": "stream",
     "text": [
      "Defaulting to user installation because normal site-packages is not writeable\n",
      "Collecting geopy\n",
      "  Downloading geopy-2.4.1-py3-none-any.whl.metadata (6.8 kB)\n",
      "Collecting geographiclib<3,>=1.52 (from geopy)\n",
      "  Downloading geographiclib-2.0-py3-none-any.whl.metadata (1.4 kB)\n",
      "Downloading geopy-2.4.1-py3-none-any.whl (125 kB)\n",
      "Downloading geographiclib-2.0-py3-none-any.whl (40 kB)\n",
      "Installing collected packages: geographiclib, geopy\n",
      "Successfully installed geographiclib-2.0 geopy-2.4.1\n",
      "Note: you may need to restart the kernel to use updated packages.\n"
     ]
    }
   ],
   "source": [
    "pip install geopy"
   ]
  },
  {
   "cell_type": "code",
   "execution_count": 11,
   "id": "eedd9420-c364-45fb-83b1-896d1cf3d7c9",
   "metadata": {},
   "outputs": [
    {
     "name": "stdout",
     "output_type": "stream",
     "text": [
      "Person is located at: wadgaon, Hirdi, Samudrapur, Wardha, Maharashtra, India\n"
     ]
    }
   ],
   "source": [
    "from geopy.geocoders import Nominatim\n",
    "\n",
    "# Create a geolocator object with a user agent (your app name)\n",
    "geolocator = Nominatim(user_agent=\"safety_app\")\n",
    "\n",
    "\n",
    "def locate_person(latitude, longitude):\n",
    "    \"\"\"\n",
    "    This function takes latitude and longitude as input and returns the address of the location.\n",
    "    \"\"\"\n",
    "    try:\n",
    "        # Reverse geocode to get the address from latitude and longitude\n",
    "        location = geolocator.reverse((latitude, longitude), exactly_one=True)\n",
    "        if location:\n",
    "            return location.address\n",
    "        else:\n",
    "            return \"Location not found\"\n",
    "    except Exception as e:\n",
    "        return f\"Error locating person: {e}\"\n",
    "\n",
    "# Example of receiving an alert signal with GPS coordinates\n",
    "# Assume these coordinates are coming from the alert system (e.g., panic button on the mobile app)\n",
    "alert_latitude = 20.5937  # Replace with actual latitude received from alert\n",
    "alert_longitude = 78.9629  # Replace with actual longitude received from alert\n",
    "\n",
    "# Locate the person based on the coordinates from the alert\n",
    "person_location = locate_person(alert_latitude, alert_longitude)\n",
    "\n",
    "# Print the human-readable address of the person\n",
    "print(f\"Person is located at: {person_location}\")"
   ]
  },
  {
   "cell_type": "code",
   "execution_count": null,
   "id": "0abc84cb-24e3-445b-8943-35a2fe697aab",
   "metadata": {},
   "outputs": [],
   "source": []
  }
 ],
 "metadata": {
  "kernelspec": {
   "display_name": "Python 3 (ipykernel)",
   "language": "python",
   "name": "python3"
  },
  "language_info": {
   "codemirror_mode": {
    "name": "ipython",
    "version": 3
   },
   "file_extension": ".py",
   "mimetype": "text/x-python",
   "name": "python",
   "nbconvert_exporter": "python",
   "pygments_lexer": "ipython3",
   "version": "3.10.12"
  }
 },
 "nbformat": 4,
 "nbformat_minor": 5
}
